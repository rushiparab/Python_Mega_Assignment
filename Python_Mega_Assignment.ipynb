{
 "cells": [
  {
   "cell_type": "markdown",
   "metadata": {},
   "source": [
    "###### Q1. Why do we call Python as a general purpose and high-level programming language?\n",
    "##### Ans: We call python as high level language becuase its in human readable format and needs to be interpreted before submitting to the machine."
   ]
  },
  {
   "cell_type": "markdown",
   "metadata": {},
   "source": [
    "###### Q2. Why is Python called a dynamically typed language?\n",
    "######  Ans : Beacuse in python while declaring any variable we dont need to specify the type of variable. Based on the value of vaiable it decides the type of variable dynamically"
   ]
  },
  {
   "cell_type": "markdown",
   "metadata": {},
   "source": [
    "###### Q3. List some pros and cons of Python programming language?\n",
    "Ans:\n",
    "Pros:\n",
    "    Easy to Learn\n",
    "    Provides extensive libraries\n",
    "    Can be used in multiple domains\n",
    "    Great communty support\n",
    "Cons:\n",
    "    Slower that compiled languages\n",
    "    Memory Consumption\n",
    "    \n",
    "Q4. In what all domains can we use Python?\n",
    "Ans: Python can be used in various domains such as web development,data science ,data analysis,data enginnerig and automation/IOT etc.\n",
    "\n",
    "Q5. What are variable and how can we declare them?\n",
    "Ans: Variable is name given to the memory location which stores the value inside it.\n",
    "     For e.g. a=10\n",
    "     Above example stores value = 10 in the memory location which can be refered using variable name \"a\" \n",
    "\n",
    "Q6. How can we take an input from the user in Python?\n",
    "Ans: We can use the input() Method to take the input from the user in python.\n",
    "     For e.g.: name = input(\"Please enter the name\")\n",
    "             input() method return the input provided by user in the string format.\n",
    "             \n",
    "Q7. What is the default datatype of the value that has been taken as an input using input() function?\n",
    "Ans: string\n",
    "\n",
    "Q8. What is type casting?\n",
    "Ans: Typecasting refers to the converting the datatype of value stored inside variable from one datatype to other/required datatype.\n",
    "             \n",
    "Q9. Can we take more than one input from the user using single input() function? If yes, how? If no, why?\n",
    "Ans : Directly we cannot take but we can apply some extra logic to achieve the same as shown below.  \n",
    "      For e.g.We can take multiple inputs using single input() function which is then needs to be splitted based on delimeter to be able to store inside two separate variable as shown below.\n",
    "\n",
    "name, age = input(\"Enter name and age using comma separator: \").split(\",\") \n",
    "print(\"Name is: \", name) \n",
    "print(\"Age is: \", age) \n",
    " \n",
    "Q10. What are keywords?\n",
    "Ans: Keywordsd are the reserved set of words available in any given programming language. \n",
    "     For e.g. \"class\" is the keyword used to define/create the new class.\n",
    "     \n",
    "Q11. Can we use keywords as a variable? Support your answer with reason.\n",
    "Ans: No. We cannot use the keyword as variable name because it will create the ambiguity for the machine/system whether we are using it in the context of variable or as keyword\n",
    "    \n",
    "Q12. What is indentation? What's the use of indentation in Python?\n",
    "Ans: Indentation is the alignment of the code. In python indentation is very important as sequence execution of the will be decided on the basis of the indentation only unlike other programing languages which uses curly braces to identify the which code block comes under which if else statement etc.\n",
    "\n",
    "Q13. How can we throw some output in Python?\n",
    "Ans: We can use the print() function to throw ouput in Python.\n",
    "\n",
    "Q14. What are operators in Python?\n",
    "Ans: Operators help us to perform the different operation on the operands. Python has various operators such as Arithmatic,Boolean,Logical etc.\n",
    "\n",
    "Q15. What is difference between / and // operators?\n",
    "Ans: \"//\" perform the integer divison meaning it will only give the output before decimal places and omits whatever after decimal places.\n",
    "\"/\" performs the actual divison and gives output in the form of decimals.\n",
    "\n",
    "For e.g:\n",
    "5/2 gives 2.5\n",
    "5//2 gives 2\n",
    "\n",
    "Q16. Write a code that gives following as an output.\n",
    "iNeuroniNeuroniNeuroniNeuron\n",
    "Ans:\n",
    "\"iNeuron\"*4\n",
    "\n"
   ]
  },
  {
   "cell_type": "markdown",
   "metadata": {},
   "source": [
    "###### Q17. Write a code to take a number as an input from the user and check if the number is odd or even.\n"
   ]
  },
  {
   "cell_type": "code",
   "execution_count": 85,
   "metadata": {},
   "outputs": [
    {
     "name": "stdout",
     "output_type": "stream",
     "text": [
      "Enter a no : 17\n",
      "Odd\n"
     ]
    }
   ],
   "source": [
    "input_no=int(input(\"Enter a no : \"))\n",
    "\n",
    "if input_no % 2==0:\n",
    "    print(\"Even\")\n",
    "else:\n",
    "    print(\"Odd\")\n"
   ]
  },
  {
   "cell_type": "code",
   "execution_count": null,
   "metadata": {},
   "outputs": [],
   "source": [
    "Q18. What are boolean operator?\n",
    "Ans: Boolean operators are the operators which returns True or False.\n",
    "    E.g. AND , OR,NOT"
   ]
  },
  {
   "cell_type": "code",
   "execution_count": null,
   "metadata": {},
   "outputs": [],
   "source": [
    "Q19. What will the output of the following?\n",
    "1 or 0\n",
    "\n",
    "Ans: 1\n",
    "\n",
    "\n",
    "0 and 0\n",
    "Ans: 0\n",
    "\n",
    "True and False and True\n",
    "Ans: False\n",
    "\n",
    "1 or 0 or 0\n",
    "Ans: 1\n",
    "    \n",
    "Q20. What are conditional statements in Python?\n",
    "Ans: Python has if,else,elif keywords to write conditional statements which are used to take action based on the condition.\n",
    "    \n",
    "Q21. What is use of 'if', 'elif' and 'else' keywords?\n",
    "Ans: 'if' is use for checking if particular condition is True or False and allows us to take action based on it.\n",
    "     'elif' is use incase condition of 'if' is not met and we have more conditions to be checked to take the action.\n",
    "    'else' is use if no condition is met either from 'if' or 'elif' in that what other action we have to take.\n",
    "    \n",
    "    \n",
    "    "
   ]
  },
  {
   "cell_type": "markdown",
   "metadata": {},
   "source": [
    "###### Q22. Write a code to take the age of person as an input and if age >= 18 display \"I can vote\". If age is < 18 display \"I can't vote\"."
   ]
  },
  {
   "cell_type": "code",
   "execution_count": 93,
   "metadata": {},
   "outputs": [
    {
     "name": "stdout",
     "output_type": "stream",
     "text": [
      "Please enter the age :18\n",
      "I can vote\n"
     ]
    }
   ],
   "source": [
    "age =int(input(\"Please enter the age :\"))\n",
    "\n",
    "if age>=18:\n",
    "    print(\"I can vote\")\n",
    "else:\n",
    "    print(\"I can't vote \")"
   ]
  },
  {
   "cell_type": "markdown",
   "metadata": {},
   "source": [
    "###### Q23. Write a code that displays the sum of all the even numbers from the given list.\n",
    "\n",
    "numbers = [12, 75, 150, 180, 145, 525, 50]"
   ]
  },
  {
   "cell_type": "code",
   "execution_count": 95,
   "metadata": {},
   "outputs": [
    {
     "name": "stdout",
     "output_type": "stream",
     "text": [
      "Sum :  392\n"
     ]
    }
   ],
   "source": [
    "numbers= [12, 75, 150, 180, 145, 525, 50]\n",
    "sum=0\n",
    "for num in numbers:\n",
    "    if num % 2==0:\n",
    "        sum=sum+num\n",
    "print(\"Sum : \",sum)"
   ]
  },
  {
   "cell_type": "markdown",
   "metadata": {},
   "source": [
    "###### Q24. Write a code to take 3 numbers as an input from the user and display the greatest no as output."
   ]
  },
  {
   "cell_type": "code",
   "execution_count": 99,
   "metadata": {},
   "outputs": [
    {
     "name": "stdout",
     "output_type": "stream",
     "text": [
      "Please enter num1 : 12\n",
      "Please enter num2 : 35\n",
      "Please enter num3 : 23\n",
      "Greatest number is :  35\n"
     ]
    }
   ],
   "source": [
    "num1=int(input(\"Please enter num1 : \"))\n",
    "num2=int(input(\"Please enter num2 : \"))\n",
    "num3=int(input(\"Please enter num3 : \"))\n",
    "\n",
    "print(\"Greatest number is : \",max(num1,num2,num3))\n"
   ]
  },
  {
   "cell_type": "markdown",
   "metadata": {},
   "source": [
    "###### Q25. Write a program to display only those numbers from a list that satisfy the following conditions\n",
    "\n",
    "The number must be divisible by five\n",
    "\n",
    "If the number is greater than 150, then skip it and move to the next number\n",
    "\n",
    "If the number is greater than 500, then stop the loop\n",
    "\n",
    "numbers = [12, 75, 150, 180, 145, 525, 50]"
   ]
  },
  {
   "cell_type": "code",
   "execution_count": 100,
   "metadata": {},
   "outputs": [
    {
     "name": "stdout",
     "output_type": "stream",
     "text": [
      "75\n",
      "150\n",
      "145\n"
     ]
    }
   ],
   "source": [
    "numbers = [12, 75, 150, 180, 145, 525, 50]\n",
    "for num in numbers:\n",
    "    if num % 5 == 0 and num<=150:\n",
    "        print(num)\n",
    "    elif num>500:\n",
    "        break"
   ]
  },
  {
   "cell_type": "markdown",
   "metadata": {},
   "source": [
    "Q26. What is a string? How can we declare string in Python?\n",
    "Ans: string is nothing sequence of character . It can contain zero(blank string lik '') or more characters in it.\n",
    "For e.g. 'Hitesh','Test123','123','' etc.\n",
    "\n",
    "Declaring string in Python:\n",
    "name=\"Vivek\"\n",
    "\n",
    "We can declare string value either by using double quotes or single quote in python. This string value has to stored in the Variable name.\n",
    "\n",
    "Q27. How can we access the string using its index?\n",
    "Ans: We can access the string using its index as below:\n",
    "For e.g.\n",
    "    name=\"Vivek\" then name[0] wil give us first character in the string i.e.\"V\" simillary: \n",
    "            name[1] will give \"i\"\n",
    "    We can access in reverse way as well using negative index where -1 gives last char,-2 gives second last char so on and so forth."
   ]
  },
  {
   "cell_type": "markdown",
   "metadata": {},
   "source": [
    "###### Q28. Write a code to get the desired output of the following\n",
    "string = \"Big Data iNeuron\"\n",
    "desired_output = \"iNeuron\""
   ]
  },
  {
   "cell_type": "code",
   "execution_count": 104,
   "metadata": {},
   "outputs": [
    {
     "name": "stdout",
     "output_type": "stream",
     "text": [
      "iNeuron\n"
     ]
    }
   ],
   "source": [
    "string = \"Big Data iNeuron\"\n",
    "print(string[9:])"
   ]
  },
  {
   "cell_type": "markdown",
   "metadata": {},
   "source": [
    "###### Q29. Write a code to get the desired output of the following\n",
    "\n",
    "string = \"Big Data iNeuron\"\n",
    "desired_output = \"norueNi\""
   ]
  },
  {
   "cell_type": "code",
   "execution_count": 106,
   "metadata": {},
   "outputs": [
    {
     "data": {
      "text/plain": [
       "'norueNi'"
      ]
     },
     "execution_count": 106,
     "metadata": {},
     "output_type": "execute_result"
    }
   ],
   "source": [
    "string = \"Big Data iNeuron\"\n",
    "string[-1:-8:-1]"
   ]
  },
  {
   "cell_type": "markdown",
   "metadata": {},
   "source": [
    "###### Q30. Resverse the string given in the above question."
   ]
  },
  {
   "cell_type": "code",
   "execution_count": 107,
   "metadata": {},
   "outputs": [
    {
     "data": {
      "text/plain": [
       "'norueNi ataD giB'"
      ]
     },
     "execution_count": 107,
     "metadata": {},
     "output_type": "execute_result"
    }
   ],
   "source": [
    "string = \"Big Data iNeuron\"\n",
    "string[-1::-1]"
   ]
  },
  {
   "cell_type": "code",
   "execution_count": null,
   "metadata": {},
   "outputs": [],
   "source": [
    "Q31. How can you delete entire string at once?\n",
    "Ans:We can assign None to the string so that it will be deleted from memory\n",
    "    \n",
    "Q32. What is escape sequence?\n",
    "Ans: Escape sequence is the character used to escape the special characters to tell the system use characters with their original \n",
    "    meaning instead treating specially.\n",
    "    \n",
    "Q33. How can you print the below string?\n",
    "'iNeuron's Big Data Course'\n",
    "Ans: We can do this using:\n",
    "        print(\"iNeuron's Big Data Course\")\n",
    "        \n",
    "Q34. What is a list in Python?\n",
    "Ans: List is a inbuilt data structure provided by the python. It is reperesented with the help of square brackets [].\n",
    "    \n",
    "Q35. How can you create a list in Python?\n",
    "Ans:We can create list in python using below:\n",
    "        \n",
    "        input_list = [10,20]\n",
    "        \n",
    "        Where input_list is the name of the list\n",
    "        [] -->Denotes its list object\n",
    "        10,20 are the list values\n",
    "    \n",
    "    \n",
    "Q36. How can we access the elements in a list?\n",
    "Ans:We can access elements of list using index. Where first element is represented by the zeroth index.\n",
    "    Example: input_list[0],input_list[-1] etc."
   ]
  },
  {
   "cell_type": "markdown",
   "metadata": {},
   "source": [
    "###### Q37. Write a code to access the word \"iNeuron\" from the given list.\n",
    "\n",
    "lst = [1,2,3,\"Hi\",[45,54, \"iNeuron\"], \"Big Data\"]"
   ]
  },
  {
   "cell_type": "code",
   "execution_count": 109,
   "metadata": {},
   "outputs": [
    {
     "data": {
      "text/plain": [
       "'iNeuron'"
      ]
     },
     "execution_count": 109,
     "metadata": {},
     "output_type": "execute_result"
    }
   ],
   "source": [
    "lst = [1,2,3,\"Hi\",[45,54, \"iNeuron\"], \"Big Data\"]\n",
    "lst[4][2]"
   ]
  },
  {
   "cell_type": "markdown",
   "metadata": {},
   "source": [
    "###### Q38. Take a list as an input from the user and find the length of the list."
   ]
  },
  {
   "cell_type": "code",
   "execution_count": 111,
   "metadata": {},
   "outputs": [
    {
     "name": "stdout",
     "output_type": "stream",
     "text": [
      "Please enter size of list: 3\n",
      "Please enter element 0 : 4\n",
      "Please enter element 1 : 6\n",
      "Please enter element 2 : 1\n",
      "Length of list is :  3\n"
     ]
    }
   ],
   "source": [
    "size = int(input(\"Please enter size of list: \"))\n",
    "input_list=[]\n",
    "\n",
    "#take inout of given size \n",
    "for i in range(0,size):    \n",
    "    input_list.append(int(input(\"Please enter element {} : \".format(i))))\n",
    "    \n",
    "print(\"Length of list is : \" ,len(input_list))\n"
   ]
  },
  {
   "cell_type": "markdown",
   "metadata": {},
   "source": [
    "###### Q39. Add the word \"Big\" in the 3rd index of the given list.\n",
    "\n",
    "lst = [\"Welcome\", \"to\", \"Data\", \"course\"]"
   ]
  },
  {
   "cell_type": "code",
   "execution_count": 112,
   "metadata": {},
   "outputs": [
    {
     "name": "stdout",
     "output_type": "stream",
     "text": [
      "['Welcome', 'to', 'Data', 'courseBig']\n"
     ]
    }
   ],
   "source": [
    "lst = [\"Welcome\", \"to\", \"Data\", \"course\"]\n",
    "lst[3]=lst[3]+\"Big\"\n",
    "print(lst)"
   ]
  },
  {
   "cell_type": "code",
   "execution_count": null,
   "metadata": {},
   "outputs": [],
   "source": [
    "Q40. What is a tuple? How is it different from list?\n",
    "Ans: Tuple is in built data structure provided by the python. It it represented by the square bracket (). \n",
    "     Tuple is immutable while list is mutable meaning once we have declared values in tuple we cant change it.\n",
    "\n",
    "        \n",
    "Q41. How can you create a tuple in Python?\n",
    "Ans: We can create tuple in puython in square bracket as shown below.\n",
    "    \n",
    "    sample_tup = (10,20,30)\n",
    "Q42. Create a tuple and try to add your name in the tuple. Are you able to do it? Support your answer with reason.\n",
    "Ans: Since tuple object are immutable if we want to add our name to tuple after creating we wont be able to do so. \n",
    "     We will receive an saying \"TypeError: 'tuple' object does not support item assignment\""
   ]
  },
  {
   "cell_type": "markdown",
   "metadata": {},
   "source": [
    "###### Q43. Can two tuple be appended. If yes, write a code for it. If not, why?\n",
    "Ans: We cannot append one tuple into another tuple since tuple are immutable but we can concat two tuple which will give us new \n",
    "tuple keeping original tuples untouched."
   ]
  },
  {
   "cell_type": "code",
   "execution_count": 125,
   "metadata": {},
   "outputs": [
    {
     "name": "stdout",
     "output_type": "stream",
     "text": [
      "(10, 20, 30, 40)\n",
      "(10, 20)\n",
      "(30, 40)\n"
     ]
    },
    {
     "data": {
      "text/plain": [
       "<function tuple.count(value, /)>"
      ]
     },
     "execution_count": 125,
     "metadata": {},
     "output_type": "execute_result"
    }
   ],
   "source": [
    "sample_tup = (10,20)\n",
    "sample_tup_2 = (30,40)\n",
    "print(sample_tup+sample_tup_2)\n",
    "print(sample_tup)\n",
    "print(sample_tup_2)\n",
    "\n"
   ]
  },
  {
   "cell_type": "markdown",
   "metadata": {},
   "source": [
    "###### Q44. Take a tuple as an input and print the count of elements in it."
   ]
  },
  {
   "cell_type": "code",
   "execution_count": 126,
   "metadata": {},
   "outputs": [
    {
     "name": "stdout",
     "output_type": "stream",
     "text": [
      "5\n"
     ]
    }
   ],
   "source": [
    "sample_tuple=(10,20,30,40,50)\n",
    "print(len(sample_tuple))"
   ]
  },
  {
   "cell_type": "markdown",
   "metadata": {},
   "source": [
    "###### Q45. What are sets in Python?\n",
    "Ans: Set is another in buit data structure provided by python which stores only unique values.\n",
    "E.g: s={10,20,30}"
   ]
  },
  {
   "cell_type": "markdown",
   "metadata": {},
   "source": [
    "###### Q46. How can you create a set?\n",
    "Ans: We can create set using below methos:\n",
    "\n",
    "s=set() #only creating set object\n",
    "\n",
    "or \n",
    "\n",
    "s={10,20,30} #creating and iitializing set object"
   ]
  },
  {
   "cell_type": "markdown",
   "metadata": {},
   "source": [
    "###### Q47. Create a set and add \"iNeuron\" in your set.\n"
   ]
  },
  {
   "cell_type": "code",
   "execution_count": 128,
   "metadata": {},
   "outputs": [
    {
     "name": "stdout",
     "output_type": "stream",
     "text": [
      "{'iNeuron'}\n"
     ]
    }
   ],
   "source": [
    "s=set()\n",
    "s.add(\"iNeuron\")\n",
    "print(s)"
   ]
  },
  {
   "cell_type": "markdown",
   "metadata": {},
   "source": [
    "###### Q48. Try to add multiple values using add() function."
   ]
  },
  {
   "cell_type": "code",
   "execution_count": 131,
   "metadata": {},
   "outputs": [
    {
     "name": "stdout",
     "output_type": "stream",
     "text": [
      "{'Big Data Bootcamp', 'iNeuron'}\n"
     ]
    }
   ],
   "source": [
    "s=set()\n",
    "s.add(\"iNeuron\")\n",
    "s.add(\"Big Data Bootcamp\")\n",
    "print(s)"
   ]
  },
  {
   "cell_type": "code",
   "execution_count": null,
   "metadata": {},
   "outputs": [],
   "source": [
    "Q49. How is update() different from add()?\n",
    "Ans: For set update() method requires iterable as an input and cannot be worked with individual elements while add method works \n",
    "    with the individual elements.\n",
    "    For e.g. if we have set object \"s\" then\n",
    "    s.add(1)#will work\n",
    "    s.add([1,2])#will fail\n",
    "    \n",
    "    simillary for update\n",
    "    s.update(1)#will fail\n",
    "    s.update([1,2]) #will work\n",
    "    \n",
    "Q50. What is clear() in sets?\n",
    "Ans: The clear() method removes all items from the set.\n",
    "    \n",
    "Q51. What is frozen set?\n",
    "Ans: Frozenset is the python immutable set obejct. We cannot modify the elements of the frozen set.\n",
    "    \n",
    "Q52. How is frozen set different from set?\n",
    "Ans: While set in python is mutable object for frozen set we cannot modify the elements of the frozen set.\n",
    "    \n",
    "Q53. What is union() in sets? Explain via code.\n",
    "Ans:Union is set operation which combines two sets and gives us new set object which conatains all elements from both set \n",
    "    after deduplication.\n",
    "    E.g:\n",
    "        A = {1, 2, 3, 4, 5}\n",
    "        B = {4, 5, 6, 7, 8}\n",
    "        print((A.union(B)))\n",
    "        Here we have two sets A and B . If we performed the union on both the sets it will combine elements from both the sets\n",
    "        and it will return new set obejct which will have:\n",
    "        {1, 2, 3, 4, 5, 6, 7, 8}\n",
    "        Here we can see resultant set obejct does not have duplicates.\n",
    "        \n",
    "Q54. What is intersection() in sets? Explain via code.\n",
    "Ans:intersection is set operation which gives common elements between two sets.\n",
    "    E.g:\n",
    "        A = {1, 2, 3, 4, 5}\n",
    "        B = {4, 5, 6, 7, 8}\n",
    "        print((A.intersection(B)))\n",
    "        Here we have two sets A and B . If we performed the intersection on both the sets it will give us common elements from \n",
    "        both sets:\n",
    "        {4, 5}\n",
    "        Here we can see resultant set obejct which has only common elements from both set objects.\n",
    "        \n",
    "Q55. What is dictionary in Python?\n",
    "Ans: Dictionary is inbuilt data structure provided by the python. It contains the key-value pair whch resembles to the JSON object.\n",
    "\n",
    "Q56. How is dictionary different from all other data structures.\n",
    "Ans: Dictionary contains the key value pair while other data structures does not have the same.\n",
    "    \n",
    "Q57. How can we delare a dictionary in Python?\n",
    "Ans: We can do so using:\n",
    "        dict_name= {key_1:value_1,key_2:value_2,.....,key_n:value_n}\n",
    "        \n",
    "Q58. What will the output of the following?\n",
    "var = {}\n",
    "print(type(var))\n",
    "Ans: <class 'dict'>\n",
    "    \n",
    "Q59. How can we add an element in a dictionary?\n",
    "Ans: We can do so by adding value to the key as shown below:\n",
    "        var = {}\n",
    "        var['Age']=30 #it will modify our original dict object to {'Age': 30}\n",
    "        Here we adding key to the dictioonary Age and assigning value 30 to it.\n",
    "        \n",
    "      \n",
    "    "
   ]
  },
  {
   "cell_type": "markdown",
   "metadata": {},
   "source": [
    "###### Q60. Create a dictionary and access all the values in that dictionary."
   ]
  },
  {
   "cell_type": "code",
   "execution_count": 147,
   "metadata": {},
   "outputs": [
    {
     "name": "stdout",
     "output_type": "stream",
     "text": [
      "Nilesh\n",
      "30\n",
      "Swimming\n",
      "Dancing\n"
     ]
    }
   ],
   "source": [
    "people ={\"Name\":\"Nilesh\",\"Age\":30,\"Hobbies\":[\"Swimming\",\"Dancing\"]}\n",
    "print(people[\"Name\"])\n",
    "print(people[\"Age\"])\n",
    "print(people[\"Hobbies\"][0])\n",
    "print(people[\"Hobbies\"][1])"
   ]
  },
  {
   "cell_type": "markdown",
   "metadata": {},
   "source": [
    "###### Q61. Create a nested dictionary and access all the element in the inner dictionary."
   ]
  },
  {
   "cell_type": "code",
   "execution_count": 149,
   "metadata": {},
   "outputs": [
    {
     "name": "stdout",
     "output_type": "stream",
     "text": [
      "Nilesh\n",
      "30\n",
      "Swimming\n",
      "Dancing\n",
      "1234\n",
      "A+\n",
      "dict_keys(['Name', 'Age', 'Hobbies', 'Personal_Info'])\n",
      "dict_values(['Nilesh', 30, ['Swimming', 'Dancing'], {'contact': 1234, 'bloodgroup': 'A+'}])\n"
     ]
    }
   ],
   "source": [
    "people ={\"Name\":\"Nilesh\",\"Age\":30,\"Hobbies\":[\"Swimming\",\"Dancing\"],\"Personal_Info\":{\"contact\":1234,\"bloodgroup\":\"A+\"}}\n",
    "print(people[\"Name\"])\n",
    "print(people[\"Age\"])\n",
    "print(people[\"Hobbies\"][0])\n",
    "print(people[\"Hobbies\"][1])\n",
    "\n",
    "#accessing the inner dictionary\n",
    "print(people[\"Personal_Info\"]['contact'])\n",
    "print(people[\"Personal_Info\"]['bloodgroup'])\n",
    "\n",
    "#Getting the all keys\n",
    "print(people.keys())\n",
    "\n",
    "#Getting the all values\n",
    "print(people.values())"
   ]
  },
  {
   "cell_type": "code",
   "execution_count": null,
   "metadata": {},
   "outputs": [],
   "source": [
    "Q62. What is the use of get() function?\n",
    "Ans: The get method returns the value for the specified key in Python Dictionary\n",
    "    \n",
    "Q63. What is the use of items() function?\n",
    "Ans:It returns the contents of the dictionary(Key,value) in the form of objects having tuple of each key and value.\n",
    "    \n",
    "Q64. What is the use of pop() function?\n",
    "Ans:It pops out the value for the given key. After popping out original dictionary would not have the popped key-value pair.\n",
    "\n",
    "Q65. What is the use of popitems() function?\n",
    "Ans:It pops out the last key/value pair  from the dictionary.\n",
    "    After popping out original dictionary would not have the popped key-value pair.\n",
    "\n",
    "Q66. What is the use of keys() function?\n",
    "Ans:It gives us the object containing the all keys from the dictionary.\n",
    "\n",
    "Q67. What is the use of values() function?\n",
    "Ans:It gives us the object containing the values from the dictionary."
   ]
  },
  {
   "cell_type": "code",
   "execution_count": null,
   "metadata": {},
   "outputs": [],
   "source": [
    "Q68. What are loops in Python?\n",
    "Ans: Loops in python are used to perform the block of code multiple times. In python we have for and while loop.\n",
    "    \n",
    "Q69. How many type of loop are there in Python?\n",
    "Ans: In python we have for and while loop.\n",
    "    \n",
    "Q70. What is the difference between for and while loops?\n",
    "Ans: We use for loop when number of iterations are known and while loop when number of iteration are dependent on condition.\n",
    "     In while loop we have to maintain some counter and keep on increasing/decreasing to avoid infinite loop.\n",
    "        \n",
    "Q71. What is the use of continue statement?\n",
    "Ans: Continue statements is used in loop to skip the execution of code block based on given condition and to continue for next \n",
    "     iteration\n",
    "        \n",
    "Q72. What is the use of break statement?\n",
    "Ans: Break statements is used in loop to to come out of the loop when given condition is met and we dont want to continue with \n",
    "     remaining iterations and come out of the loop abruptly\n",
    "\n",
    "Q73. What is the use of pass statement?\n",
    "Ans: Pass statements is used to do nothing when given condition is met. Most of the times its used as place holder \n",
    "        for future code\n",
    "\n",
    "Q74. What is the use of range() function?\n",
    "Ans: Range function use use to generate sequence of numbers in the form of list \n",
    "        based on input(start_value,end_value,incremnet where end_value is exclusive).\n",
    "\n",
    "Q75. How can you loop over a dictionary?\n",
    "Ans: We can loop over dictionary suing for loop.\n",
    "    E.g:\n",
    "        input_dict={\"Name\":\"Nilesh\",\"Age\":30}\n",
    "        for key, value in input_dict.items():\n",
    "              print(key,value)\n"
   ]
  },
  {
   "cell_type": "markdown",
   "metadata": {},
   "source": [
    "###### Q76. Write a Python program to find the factorial of a given number."
   ]
  },
  {
   "cell_type": "code",
   "execution_count": 1,
   "metadata": {},
   "outputs": [
    {
     "name": "stdout",
     "output_type": "stream",
     "text": [
      "Please enter a no:5\n",
      "Factorial of 5  is : 120\n"
     ]
    }
   ],
   "source": [
    "def factorial(no):\n",
    "    factorial=1\n",
    "    if no == 0 or no == 1:\n",
    "        return factorial\n",
    "    for i in range(2,no+1):\n",
    "        factorial=factorial *i\n",
    "    \n",
    "    return factorial\n",
    "\n",
    "\n",
    "no = int(input(\"Please enter a no:\"))\n",
    "print(f\"Factorial of {no}  is :\",factorial(no))\n",
    "\n",
    "\n"
   ]
  },
  {
   "cell_type": "markdown",
   "metadata": {},
   "source": [
    "###### Q77. Write a Python program to calculate the simple interest. Formula to calculate simple interest is SI = (PRT)/100"
   ]
  },
  {
   "cell_type": "code",
   "execution_count": 3,
   "metadata": {},
   "outputs": [
    {
     "name": "stdout",
     "output_type": "stream",
     "text": [
      "Please enter principal amount:1000\n",
      "Please enter rate of interest:6.5\n",
      "Please enter the tenure:2\n",
      "Simple interest for given inputs is : 130.0\n"
     ]
    }
   ],
   "source": [
    "def calculate_SI(p,r,t):\n",
    "        si = (p*r*t)/100.0\n",
    "        return si\n",
    "\n",
    "p = float(input(\"Please enter principal amount:\"))\n",
    "r = float(input(\"Please enter rate of interest:\"))\n",
    "t = float(input(\"Please enter the tenure:\"))\n",
    "\n",
    "print(f\"Simple interest for given inputs is :\",calculate_SI(p,r,t))\n",
    "\n",
    "\n",
    "    "
   ]
  },
  {
   "cell_type": "markdown",
   "metadata": {},
   "source": [
    "###### Q78. Write a Python program to calculate the compound interest. Formula of compound interest is A = P(1+ R/100)^t."
   ]
  },
  {
   "cell_type": "code",
   "execution_count": 4,
   "metadata": {},
   "outputs": [
    {
     "name": "stdout",
     "output_type": "stream",
     "text": [
      "Please enter principal amount:100\n",
      "Please enter rate of interest:10\n",
      "Please enter the tenure:2\n",
      "Cimple interest for given inputs is : 121.00000000000001\n"
     ]
    }
   ],
   "source": [
    "def calculate_CI(p,r,t):\n",
    "        ci = p*(1+(r/100))**t\n",
    "        return ci\n",
    "\n",
    "p = float(input(\"Please enter principal amount:\"))\n",
    "r = float(input(\"Please enter rate of interest:\"))\n",
    "t = float(input(\"Please enter the tenure:\"))\n",
    "\n",
    "print(f\"Cimple interest for given inputs is :\",calculate_CI(p,r,t))    "
   ]
  },
  {
   "cell_type": "markdown",
   "metadata": {},
   "source": [
    "###### Q79. Write a Python program to check if a number is prime or not."
   ]
  },
  {
   "cell_type": "code",
   "execution_count": 18,
   "metadata": {},
   "outputs": [
    {
     "name": "stdout",
     "output_type": "stream",
     "text": [
      "Enter a no :89\n",
      "Prime\n"
     ]
    }
   ],
   "source": [
    "def isPrime(no):\n",
    "    if no == 2: #check for no==2\n",
    "        print(\"Prime\")\n",
    "        \n",
    "    elif no == 1 or no ==0: #check for no ==1 or no==0\n",
    "        print(\"Not a Prime\")\n",
    "        \n",
    "    else:\n",
    "        # logic to decide prime or not\n",
    "        # starting from 2 till no-1 check if no is divisible by any no\n",
    "        # if yes then not prime \n",
    "        i=2\n",
    "        while i<no:\n",
    "            if no % i==0:\n",
    "                print(\"Not a Prime\")\n",
    "                break\n",
    "            else:\n",
    "                i+=1\n",
    "        \n",
    "        #check why loop has broken either due to break or while condition failed\n",
    "        #if while condition failed the its prime \n",
    "        if i == no:\n",
    "            print(\"Prime\")\n",
    "        \n",
    "        \n",
    "no =int(input(\"Enter a no :\"))\n",
    "isPrime(no)"
   ]
  },
  {
   "cell_type": "markdown",
   "metadata": {},
   "source": [
    "###### Q80. Write a Python program to check Armstrong Number."
   ]
  },
  {
   "cell_type": "code",
   "execution_count": 75,
   "metadata": {},
   "outputs": [
    {
     "name": "stdout",
     "output_type": "stream",
     "text": [
      "Please provide a no : 407\n",
      "Armstrong No\n"
     ]
    }
   ],
   "source": [
    "no= int(input(\"Please provide a no : \"))\n",
    "sum=0\n",
    "temp=no\n",
    "while temp>0:\n",
    "    digit=temp%10\n",
    "    temp=temp//10\n",
    "    sum=sum+(digit**3)\n",
    "\n",
    "if sum==no:\n",
    "    print(\"Armstrong No\")\n",
    "else: print(\"Not Armstrong\")\n"
   ]
  },
  {
   "cell_type": "markdown",
   "metadata": {},
   "source": [
    "###### Q81. Write a Python program to find the n-th Fibonacci Number."
   ]
  },
  {
   "cell_type": "code",
   "execution_count": 78,
   "metadata": {},
   "outputs": [
    {
     "name": "stdout",
     "output_type": "stream",
     "text": [
      "13\n"
     ]
    }
   ],
   "source": [
    "def fib(n):\n",
    "    if n <= 2:\n",
    "        return n - 1\n",
    "    else:\n",
    "        return fib(n - 1) + fib(n - 2)\n",
    "\n",
    "n = 8\n",
    "print(fib(n))"
   ]
  },
  {
   "cell_type": "markdown",
   "metadata": {},
   "source": [
    "###### Q82. Write a Python program to interchange the first and last element in a list."
   ]
  },
  {
   "cell_type": "code",
   "execution_count": 21,
   "metadata": {},
   "outputs": [
    {
     "name": "stdout",
     "output_type": "stream",
     "text": [
      "Empty List\n"
     ]
    }
   ],
   "source": [
    "input_list = [10,2,3,4,5,6]\n",
    "\n",
    "if len(input_list)>0:\n",
    "    temp =input_list[0]\n",
    "    input_list[0]=input_list[-1]\n",
    "    input_list[-1]=temp\n",
    "    \n",
    "    print(input_list)\n",
    "else:\n",
    "    print(\"Empty List\")\n",
    "\n"
   ]
  },
  {
   "cell_type": "markdown",
   "metadata": {},
   "source": [
    "###### Q83. Write a Python program to swap two elements in a list."
   ]
  },
  {
   "cell_type": "code",
   "execution_count": 22,
   "metadata": {},
   "outputs": [
    {
     "name": "stdout",
     "output_type": "stream",
     "text": [
      "[6, 2, 3, 4, 5, 10]\n"
     ]
    }
   ],
   "source": [
    "#swapping the first and last element\n",
    "input_list = [10,2,3,4,5,6]\n",
    "\n",
    "if len(input_list)>0:\n",
    "    temp =input_list[0]\n",
    "    input_list[0]=input_list[-1]\n",
    "    input_list[-1]=temp\n",
    "    \n",
    "    print(input_list)\n",
    "else:\n",
    "    print(\"Empty List\")\n"
   ]
  },
  {
   "cell_type": "markdown",
   "metadata": {},
   "source": [
    "###### Q84. Write a Python program to find N largest element from a list."
   ]
  },
  {
   "cell_type": "code",
   "execution_count": 30,
   "metadata": {},
   "outputs": [
    {
     "name": "stdout",
     "output_type": "stream",
     "text": [
      "Please enter size of list: 5\n",
      "Please enter element 0 : 34\n",
      "Please enter element 1 : 67\n",
      "Please enter element 2 : 23\n",
      "Please enter element 3 : 89\n",
      "Please enter element 4 : 56\n",
      "Enter Value of N : 3\n",
      "56\n"
     ]
    }
   ],
   "source": [
    "#check for list size\n",
    "size = int(input(\"Please enter size of list: \"))\n",
    "input_list=[]\n",
    "\n",
    "#take inout of given size \n",
    "for i in range(0,size):    \n",
    "    input_list.append(int(input(\"Please enter element {} : \".format(i))))\n",
    "\n",
    "#Enter value of 'N'\n",
    "n=int(input(\"Enter Value of N : \"))\n",
    "\n",
    "sorted_list = sorted(input_list,reverse=True)\n",
    "if n>len(sorted_list):\n",
    "    print(\"Invalid Input\")\n",
    "else:\n",
    "    print(sorted_list[n-1])"
   ]
  },
  {
   "cell_type": "markdown",
   "metadata": {},
   "source": [
    "###### Q85. Write a Python program to find cumulative sum of a list."
   ]
  },
  {
   "cell_type": "code",
   "execution_count": 31,
   "metadata": {},
   "outputs": [
    {
     "name": "stdout",
     "output_type": "stream",
     "text": [
      "Please enter size of list: 7\n",
      "Please enter element 0 : 1\n",
      "Please enter element 1 : 2\n",
      "Please enter element 2 : 3\n",
      "Please enter element 3 : 47\n",
      "Please enter element 4 : 45\n",
      "Please enter element 5 : 87\n",
      "Please enter element 6 : 98\n",
      "Cumulative Sum =  283\n"
     ]
    }
   ],
   "source": [
    "#check for list size\n",
    "size = int(input(\"Please enter size of list: \"))\n",
    "input_list=[]\n",
    "sum=0\n",
    "#take inout of given size \n",
    "for i in range(0,size):    \n",
    "    input_list.append(int(input(\"Please enter element {} : \".format(i))))\n",
    "    \n",
    "for num in input_list:\n",
    "    sum=sum+num\n",
    "\n",
    "print(\"Cumulative Sum = \",sum )"
   ]
  },
  {
   "cell_type": "markdown",
   "metadata": {},
   "source": [
    "###### Q86. Write a Python program to check if a string is palindrome or not."
   ]
  },
  {
   "cell_type": "code",
   "execution_count": 35,
   "metadata": {},
   "outputs": [
    {
     "name": "stdout",
     "output_type": "stream",
     "text": [
      "Please enter the string: MaM\n",
      "Palindrome\n"
     ]
    }
   ],
   "source": [
    "strg = input(\"Please enter the string: \")\n",
    "if strg == strg[-1::-1]:\n",
    "    print(\"Palindrome\")\n",
    "else:\n",
    "    print(\"Not Palindrome\")"
   ]
  },
  {
   "cell_type": "markdown",
   "metadata": {},
   "source": [
    "###### Q87. Write a Python program to remove i'th element from a string."
   ]
  },
  {
   "cell_type": "code",
   "execution_count": 1,
   "metadata": {},
   "outputs": [
    {
     "name": "stdout",
     "output_type": "stream",
     "text": [
      "Please enter the string: RUshi\n",
      "Please enter the value of ith index[zero based index]: 2\n",
      "RUhi\n"
     ]
    }
   ],
   "source": [
    "strg = input(\"Please enter the string: \")\n",
    "i=int(input(\"Please enter the value of ith index[zero based index]: \"))\n",
    "\n",
    "if i>len(strg):\n",
    "    print(\"Invalid Index\")\n",
    "elif i == 0:\n",
    "    print(strg[i+1:])\n",
    "else:\n",
    "    print(strg[:i]+strg[i+1:])\n"
   ]
  },
  {
   "cell_type": "markdown",
   "metadata": {},
   "source": [
    "###### Q88. Write a Python program to check if a substring is present in a given string."
   ]
  },
  {
   "cell_type": "code",
   "execution_count": 7,
   "metadata": {},
   "outputs": [
    {
     "name": "stdout",
     "output_type": "stream",
     "text": [
      "Please enter the string: Mahendra\n",
      "Please enter the substring: end\n",
      "Substring found\n"
     ]
    }
   ],
   "source": [
    "strg = input(\"Please enter the string: \")\n",
    "substring=input(\"Please enter the substring: \")\n",
    "\n",
    "\n",
    "for i in range(0,len(strg)):\n",
    "    for j in range(0,len(strg)):\n",
    "        if strg[i:j+1]==substring:\n",
    "            break\n",
    "    if strg[i:j+1]==substring:\n",
    "        break\n",
    "\n",
    "if strg[i:j+1]==substring:\n",
    "        print(\"Substring found\")\n",
    "else:\n",
    "    print(\"Not Found\")\n",
    "        "
   ]
  },
  {
   "cell_type": "markdown",
   "metadata": {},
   "source": [
    "###### Q89. Write a Python program to find words which are greater than given length k."
   ]
  },
  {
   "cell_type": "code",
   "execution_count": 10,
   "metadata": {},
   "outputs": [
    {
     "name": "stdout",
     "output_type": "stream",
     "text": [
      "Enter value of Length: 5\n",
      "Mahendra\n",
      "Australia\n"
     ]
    }
   ],
   "source": [
    "list_of_words=[\"Mahendra\",\"Vivek\",\"Australia\"]\n",
    "length=int(input(\"Enter value of Length: \"))\n",
    "\n",
    "for word in list_of_words:\n",
    "    if len(word)>length:\n",
    "        print(word)"
   ]
  },
  {
   "cell_type": "markdown",
   "metadata": {},
   "source": [
    "###### Q90. Write a Python program to extract unquire dictionary values."
   ]
  },
  {
   "cell_type": "code",
   "execution_count": 20,
   "metadata": {},
   "outputs": [
    {
     "name": "stdout",
     "output_type": "stream",
     "text": [
      "{1: 'Vivek', 2: 'Nilesh', 3: 'Vivek', 4: 'Rushikesh'}\n",
      "Unique values : {'Vivek', 'Nilesh', 'Rushikesh'}\n"
     ]
    }
   ],
   "source": [
    "input_dict={1:\"Vivek\",2:\"Nilesh\",3:\"Vivek\",4:\"Rushikesh\"}\n",
    "print(input_dict)\n",
    "print(\"Unique values :\",set(input_dict.values()))\n"
   ]
  },
  {
   "cell_type": "markdown",
   "metadata": {},
   "source": [
    "###### Q91. Write a Python program to merge two dictionary."
   ]
  },
  {
   "cell_type": "code",
   "execution_count": 28,
   "metadata": {},
   "outputs": [
    {
     "name": "stdout",
     "output_type": "stream",
     "text": [
      "{1: 'Vivek', 2: 'Nilesh', 3: 'Vivek', 4: 'Rushikesh', 7: 'Shashank', 8: 'Vishal', 5: 'Hitesh', 6: 'Rupesh'}\n"
     ]
    }
   ],
   "source": [
    "input_dict_1={1:\"Vivek\",2:\"Nilesh\",3:\"Vivek\",4:\"Rushikesh\"}\n",
    "input_dict_2={7:\"Shashank\",8:\"Vishal\",5:\"Hitesh\",6:\"Rupesh\"}\n",
    "input_dict_1.update(input_dict_2)\n",
    "print(input_dict_1)"
   ]
  },
  {
   "cell_type": "markdown",
   "metadata": {},
   "source": [
    "###### Q92. Write a Python program to convert a list of tuples into dictionary."
   ]
  },
  {
   "cell_type": "code",
   "execution_count": 29,
   "metadata": {},
   "outputs": [
    {
     "data": {
      "text/plain": [
       "{'Sachin': 10, 'MSD': 7, 'Kohli': 18, 'Rohit': 45}"
      ]
     },
     "execution_count": 29,
     "metadata": {},
     "output_type": "execute_result"
    }
   ],
   "source": [
    "input_list= [('Sachin', 10), ('MSD', 7), ('Kohli', 18), ('Rohit', 45)]\n",
    "dict(input_list)"
   ]
  },
  {
   "cell_type": "markdown",
   "metadata": {},
   "source": [
    "###### Q93. Write a Python program to create a list of tuples from given list having number and its cube in each tuple."
   ]
  },
  {
   "cell_type": "code",
   "execution_count": 30,
   "metadata": {},
   "outputs": [
    {
     "name": "stdout",
     "output_type": "stream",
     "text": [
      "[(9, 729), (5, 125), (6, 216)]\n"
     ]
    }
   ],
   "source": [
    "input_list=[9, 5, 6]\n",
    "output_list=[]\n",
    "for num in input_list:\n",
    "    output_list.append((num,num**3))\n",
    "print(output_list)"
   ]
  },
  {
   "cell_type": "markdown",
   "metadata": {},
   "source": [
    "###### Q94. Write a Python program to get all combinations of 2 tuples."
   ]
  },
  {
   "cell_type": "code",
   "execution_count": 34,
   "metadata": {},
   "outputs": [
    {
     "data": {
      "text/plain": [
       "[(7, 7), (7, 7), (7, 8), (8, 7), (2, 7), (7, 2), (2, 8), (8, 2)]"
      ]
     },
     "execution_count": 34,
     "metadata": {},
     "output_type": "execute_result"
    }
   ],
   "source": [
    "#Input : test_tuple1 = (7, 2), test_tuple2 = (7, 8)\n",
    "#Output : [(7, 7), (7, 8), (2, 7), (2, 8), (7, 7), (7, 2), (8, 7), (8, 2)]\n",
    "test_tuple1 = (7, 2)\n",
    "test_tuple2 = (7, 8)\n",
    "ouput_list=[]\n",
    "for i in test_tuple1:\n",
    "    for j in test_tuple2:\n",
    "        ouput_list.append((i,j))\n",
    "        ouput_list.append((j,i))\n",
    "ouput_list"
   ]
  },
  {
   "cell_type": "markdown",
   "metadata": {},
   "source": [
    "###### Q95. Write a Python program to sort a list of tuples by second item."
   ]
  },
  {
   "cell_type": "code",
   "execution_count": 44,
   "metadata": {},
   "outputs": [
    {
     "data": {
      "text/plain": [
       "[('Geeks', 8), ('for', 24), ('Geeks', 30)]"
      ]
     },
     "execution_count": 44,
     "metadata": {},
     "output_type": "execute_result"
    }
   ],
   "source": [
    "#Input : [('for', 24), ('Geeks', 8), ('Geeks', 30)] \n",
    "#Output : [('Geeks', 8), ('for', 24), ('Geeks', 30)]\n",
    "\n",
    "def myFun(tup):\n",
    "    return tup[1]\n",
    "\n",
    "input_list = [('for', 24), ('Geeks', 8), ('Geeks', 30)] \n",
    "\n",
    "\n",
    "sorted(input_list,key=myFun)\n",
    "    "
   ]
  },
  {
   "cell_type": "markdown",
   "metadata": {},
   "source": [
    "###### Q96. Write a python program to print below pattern.\n",
    "###### * \n",
    "###### * * \n",
    "###### * * * \n",
    "###### * * * * \n",
    "###### * * * * * "
   ]
  },
  {
   "cell_type": "code",
   "execution_count": 50,
   "metadata": {},
   "outputs": [
    {
     "name": "stdout",
     "output_type": "stream",
     "text": [
      "* \n",
      "\n",
      "* * \n",
      "\n",
      "* * * \n",
      "\n",
      "* * * * \n",
      "\n",
      "* * * * * \n",
      "\n"
     ]
    }
   ],
   "source": [
    "for i in range(1,6):\n",
    "    for j in range(1,6):\n",
    "        if j<=i:\n",
    "            print(\"*\",end=' ')\n",
    "    print(\"\\n\")"
   ]
  },
  {
   "cell_type": "markdown",
   "metadata": {},
   "source": [
    "###### Q97. Write a python program to print below pattern.\n",
    "######     *\n",
    "######    **\n",
    "######   ***\n",
    "######  ****\n",
    "###### *****"
   ]
  },
  {
   "cell_type": "code",
   "execution_count": 62,
   "metadata": {},
   "outputs": [
    {
     "name": "stdout",
     "output_type": "stream",
     "text": [
      "    *\n",
      "\n",
      "   **\n",
      "\n",
      "  ***\n",
      "\n",
      " ****\n",
      "\n",
      "*****\n",
      "\n"
     ]
    }
   ],
   "source": [
    "for i in range(1,6):\n",
    "    for j in range(1,6):\n",
    "        if j>5-i:\n",
    "            print(\"*\",end='')\n",
    "        else: print(\" \",end='')\n",
    "    print(\"\\n\")"
   ]
  },
  {
   "cell_type": "markdown",
   "metadata": {},
   "source": [
    "###### Q98. Write a python program to print below pattern.\n",
    "\n",
    "    * \n",
    "   * * \n",
    "  * * * \n",
    " * * * * \n",
    "* * * * * "
   ]
  },
  {
   "cell_type": "code",
   "execution_count": 65,
   "metadata": {},
   "outputs": [
    {
     "name": "stdout",
     "output_type": "stream",
     "text": [
      "    * \n",
      "\n",
      "   * * \n",
      "\n",
      "  * * * \n",
      "\n",
      " * * * * \n",
      "\n",
      "* * * * * \n",
      "\n"
     ]
    }
   ],
   "source": [
    "for i in range(1,6):\n",
    "    for j in range(1,6):\n",
    "        if j>5-i:\n",
    "            print(\"* \",end='')\n",
    "        else: print(\" \",end='')\n",
    "    print(\"\\n\")"
   ]
  },
  {
   "cell_type": "markdown",
   "metadata": {},
   "source": [
    "###### Q99. Write a python program to print below pattern.\n",
    "\n",
    "1 \n",
    "1 2 \n",
    "1 2 3 \n",
    "1 2 3 4 \n",
    "1 2 3 4 5"
   ]
  },
  {
   "cell_type": "code",
   "execution_count": 66,
   "metadata": {},
   "outputs": [
    {
     "name": "stdout",
     "output_type": "stream",
     "text": [
      "1 \n",
      "\n",
      "1 2 \n",
      "\n",
      "1 2 3 \n",
      "\n",
      "1 2 3 4 \n",
      "\n",
      "1 2 3 4 5 \n",
      "\n"
     ]
    }
   ],
   "source": [
    "for i in range(1,6):\n",
    "    for j in range(1,6):\n",
    "        if j<=i:\n",
    "            print(j,end=' ')\n",
    "    print(\"\\n\")"
   ]
  },
  {
   "cell_type": "markdown",
   "metadata": {},
   "source": [
    "###### Q100. Write a python program to print below pattern.\n",
    "\n",
    "A \n",
    "B B \n",
    "C C C \n",
    "D D D D \n",
    "E E E E E "
   ]
  },
  {
   "cell_type": "code",
   "execution_count": 69,
   "metadata": {},
   "outputs": [
    {
     "name": "stdout",
     "output_type": "stream",
     "text": [
      "A \n",
      "\n",
      "B B \n",
      "\n",
      "C C C \n",
      "\n",
      "D D D D \n",
      "\n",
      "E E E E E \n",
      "\n"
     ]
    }
   ],
   "source": [
    "for i in range(1,6):\n",
    "    for j in range(1,6):\n",
    "        if j<=i:\n",
    "            print(chr(i+64),end=' ')\n",
    "    print(\"\\n\")"
   ]
  },
  {
   "cell_type": "code",
   "execution_count": null,
   "metadata": {},
   "outputs": [],
   "source": []
  }
 ],
 "metadata": {
  "kernelspec": {
   "display_name": "Python 3",
   "language": "python",
   "name": "python3"
  },
  "language_info": {
   "codemirror_mode": {
    "name": "ipython",
    "version": 3
   },
   "file_extension": ".py",
   "mimetype": "text/x-python",
   "name": "python",
   "nbconvert_exporter": "python",
   "pygments_lexer": "ipython3",
   "version": "3.7.6"
  }
 },
 "nbformat": 4,
 "nbformat_minor": 4
}
